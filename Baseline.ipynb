{
 "cells": [
  {
   "cell_type": "code",
   "execution_count": 1,
   "id": "28ec8195",
   "metadata": {},
   "outputs": [
    {
     "name": "stderr",
     "output_type": "stream",
     "text": [
      "e:\\anaconda\\lib\\site-packages\\numpy\\_distributor_init.py:30: UserWarning: loaded more than 1 DLL from .libs:\n",
      "e:\\anaconda\\lib\\site-packages\\numpy\\.libs\\libopenblas.WCDJNK7YVMPZQ2ME2ZZHJJRJ3JIKNDB7.gfortran-win_amd64.dll\n",
      "e:\\anaconda\\lib\\site-packages\\numpy\\.libs\\libopenblas.XWYDX2IKJW2NMTWSFYNGFUWKQU3LYTCZ.gfortran-win_amd64.dll\n",
      "  warnings.warn(\"loaded more than 1 DLL from .libs:\"\n"
     ]
    }
   ],
   "source": [
    "import pandas as pd\n",
    "import numpy as np"
   ]
  },
  {
   "cell_type": "code",
   "execution_count": 2,
   "id": "70b275f8",
   "metadata": {},
   "outputs": [],
   "source": [
    "transactions = pd.read_csv(\"transactions_train.csv\")"
   ]
  },
  {
   "cell_type": "code",
   "execution_count": 3,
   "id": "33591a62",
   "metadata": {},
   "outputs": [],
   "source": [
    "transactions['year'] = pd.DatetimeIndex(transactions['t_dat']).year\n",
    "transactions['month'] = pd.DatetimeIndex(transactions['t_dat']).month\n",
    "transactions['day'] = pd.DatetimeIndex(transactions['t_dat']).day"
   ]
  },
  {
   "cell_type": "code",
   "execution_count": 4,
   "id": "de01840a",
   "metadata": {},
   "outputs": [
    {
     "data": {
      "text/plain": [
       "array([ 9, 10, 11, 12,  1,  2,  3,  4,  5,  6,  7,  8], dtype=int64)"
      ]
     },
     "execution_count": 4,
     "metadata": {},
     "output_type": "execute_result"
    }
   ],
   "source": [
    "transactions[\"month\"].unique()"
   ]
  },
  {
   "cell_type": "code",
   "execution_count": 5,
   "id": "e948d702",
   "metadata": {},
   "outputs": [],
   "source": [
    "transactions.drop(transactions[transactions['year'] == 2018].index, inplace = True)\n",
    "transactions.drop(transactions[transactions['year'] == 2019].index, inplace = True)"
   ]
  },
  {
   "cell_type": "code",
   "execution_count": 15,
   "id": "cfe73f90",
   "metadata": {},
   "outputs": [],
   "source": [
    "transactions.drop(transactions[transactions['month'] < 9].index, inplace = True)"
   ]
  },
  {
   "cell_type": "code",
   "execution_count": 16,
   "id": "e26783ac",
   "metadata": {},
   "outputs": [],
   "source": [
    "v = transactions['article_id'].value_counts()[:12].index.tolist()"
   ]
  },
  {
   "cell_type": "code",
   "execution_count": 17,
   "id": "3437e66d",
   "metadata": {},
   "outputs": [
    {
     "name": "stdout",
     "output_type": "stream",
     "text": [
      "751471001\n",
      "909370001\n",
      "918522001\n",
      "924243001\n",
      "918292001\n",
      "915526001\n",
      "448509014\n",
      "915529003\n",
      "751471043\n",
      "706016001\n",
      "865799006\n",
      "863595006\n"
     ]
    }
   ],
   "source": [
    "for e in v:\n",
    "    print(e)"
   ]
  },
  {
   "cell_type": "code",
   "execution_count": 18,
   "id": "d6de62a6",
   "metadata": {},
   "outputs": [],
   "source": [
    "sample_s = pd.read_csv(\"sample_submission.csv\")"
   ]
  },
  {
   "cell_type": "code",
   "execution_count": 19,
   "id": "fd458a3d",
   "metadata": {},
   "outputs": [],
   "source": [
    "new = sample_s.drop('prediction', axis = 1)"
   ]
  },
  {
   "cell_type": "code",
   "execution_count": 20,
   "id": "919b5f83",
   "metadata": {},
   "outputs": [],
   "source": [
    "new_df = new.assign(prediction='751471001 909370001 918522001 924243001 918292001 915526001 448509014 915529003 751471043 706016001 865799006 863595006')"
   ]
  },
  {
   "cell_type": "code",
   "execution_count": 21,
   "id": "7731a14a",
   "metadata": {},
   "outputs": [],
   "source": [
    "sample_s.to_csv('baseline.csv', index=False)"
   ]
  },
  {
   "cell_type": "code",
   "execution_count": null,
   "id": "b88b86f8",
   "metadata": {},
   "outputs": [],
   "source": []
  }
 ],
 "metadata": {
  "kernelspec": {
   "display_name": "Python 3 (ipykernel)",
   "language": "python",
   "name": "python3"
  },
  "language_info": {
   "codemirror_mode": {
    "name": "ipython",
    "version": 3
   },
   "file_extension": ".py",
   "mimetype": "text/x-python",
   "name": "python",
   "nbconvert_exporter": "python",
   "pygments_lexer": "ipython3",
   "version": "3.8.8"
  }
 },
 "nbformat": 4,
 "nbformat_minor": 5
}
